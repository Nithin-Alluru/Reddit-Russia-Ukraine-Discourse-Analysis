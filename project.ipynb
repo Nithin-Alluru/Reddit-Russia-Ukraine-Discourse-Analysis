{
 "cells": [
  {
   "cell_type": "markdown",
   "metadata": {},
   "source": [
    "# Reddit Network Analysis\n",
    "\n",
    "This notebook processes a Reddit dataset to create a network where:\n",
    "- Nodes are Reddit users\n",
    "- Edges connect users with similar posting patterns across subreddits (based on cosine similarity)\n",
    "\n",
    "The dataset used is \"reddit_opinion_ru_ua.csv\" from Kaggle (downloaded locally).\n",
    "https://www.kaggle.com/datasets/asaniczka/public-opinion-russia-ukraine-war-updated-daily"
   ]
  },
  {
   "cell_type": "code",
   "execution_count": 42,
   "metadata": {},
   "outputs": [],
   "source": [
    "# Import all required libraries\n",
    "import pandas as pd\n",
    "import numpy as np\n",
    "import networkx as nx\n",
    "from itertools import combinations\n",
    "import os\n",
    "from sklearn.metrics.pairwise import cosine_similarity"
   ]
  },
  {
   "cell_type": "markdown",
   "metadata": {},
   "source": [
    "## Data Loading and Preprocessing"
   ]
  },
  {
   "cell_type": "code",
   "execution_count": 41,
   "metadata": {},
   "outputs": [
    {
     "name": "stdout",
     "output_type": "stream",
     "text": [
      "Loading data from reddit_opinion_ru_ua.csv...\n",
      "Original data shape: (4928897, 24)\n",
      "Data shape after cleaning: (736526, 24)\n"
     ]
    }
   ],
   "source": [
    "def load_and_clean_data(filepath):\n",
    "    \"\"\"\n",
    "    Load Reddit data and remove duplicate user-subreddit combinations.\n",
    "    \n",
    "    Args:\n",
    "        filepath (str): Path to the CSV data file\n",
    "        \n",
    "    Returns:\n",
    "        pandas.DataFrame: Cleaned dataframe with unique user-subreddit combinations\n",
    "    \"\"\"\n",
    "    try:\n",
    "        # Check if file exists\n",
    "        if not os.path.exists(filepath):\n",
    "            raise FileNotFoundError(f\"Data file not found: {filepath}\")\n",
    "            \n",
    "        # Load the dataset\n",
    "        print(f\"Loading data from {filepath}...\")\n",
    "        df = pd.read_csv(filepath)\n",
    "        print(f\"Original data shape: {df.shape}\")\n",
    "        \n",
    "        # Remove duplicate user-subreddit combinations\n",
    "        df_unique = df.drop_duplicates(subset=['author_name', 'subreddit'])\n",
    "        print(f\"Data shape after cleaning: {df_unique.shape}\")\n",
    "        \n",
    "        return df_unique\n",
    "    \n",
    "    except Exception as e:\n",
    "        print(f\"Error in load_and_clean_data: {str(e)}\")\n",
    "        raise\n",
    "\n",
    "# Load and clean the dataset\n",
    "df_clean = load_and_clean_data(\"reddit_opinion_ru_ua.csv\")"
   ]
  },
  {
   "cell_type": "code",
   "execution_count": null,
   "metadata": {},
   "outputs": [
    {
     "name": "stdout",
     "output_type": "stream",
     "text": [
      "Using posts on or after: 2025-04-03 11:26:19\n",
      "Date filtering:\n",
      "  Start date: 2025-04-03 11:26:19\n",
      "  Original records: 736526\n",
      "  Filtered records: 3687 (0.5% retained)\n"
     ]
    }
   ],
   "source": [
    "def filter_by_date(df, start_date=None, end_date=None):\n",
    "    \"\"\"\n",
    "    Filter dataframe to include only posts within a specific date range.\n",
    "    \n",
    "    Args:\n",
    "        df (pandas.DataFrame): DataFrame with 'post_created_time' column\n",
    "        start_date (str, datetime, optional): Keep posts on or after this date\n",
    "        end_date (str, datetime, optional): Keep posts on or before this date\n",
    "        \n",
    "    Returns:\n",
    "        pandas.DataFrame: Filtered dataframe\n",
    "    \"\"\"\n",
    "    # Make sure post_created_time is datetime\n",
    "    if not pd.api.types.is_datetime64_dtype(df['post_created_time']):\n",
    "        df['post_created_time'] = pd.to_datetime(df['post_created_time'])\n",
    "    \n",
    "    original_count = len(df)\n",
    "    \n",
    "    # Apply date filters\n",
    "    if start_date is not None:\n",
    "        if isinstance(start_date, str):\n",
    "            start_date = pd.to_datetime(start_date)\n",
    "        df = df[df['post_created_time'] >= start_date]\n",
    "    \n",
    "    if end_date is not None:\n",
    "        if isinstance(end_date, str):\n",
    "            end_date = pd.to_datetime(end_date)\n",
    "        df = df[df['post_created_time'] <= end_date]\n",
    "    \n",
    "    # Report on filtering\n",
    "    print(f\"Date filtering:\")\n",
    "    if start_date is not None:\n",
    "        print(f\"  Start date: {start_date}\")\n",
    "    if end_date is not None:\n",
    "        print(f\"  End date: {end_date}\")\n",
    "    print(f\"  Original records: {original_count}\")\n",
    "    print(f\"  Filtered records: {len(df)} ({len(df)/original_count*100:.1f}% retained)\")\n",
    "    \n",
    "    return df\n",
    "from datetime import timedelta\n",
    "\n",
    "# Calculate a date threshold (e.g., most recent 30 days)\n",
    "cutoff_date = max_date - timedelta(days=1)\n",
    "print(f\"Using posts on or after: {cutoff_date}\")\n",
    "\n",
    "# Filter the dataframe\n",
    "df_recent = filter_by_date(df_clean, start_date=cutoff_date)"
   ]
  },
  {
   "cell_type": "code",
   "execution_count": 49,
   "metadata": {},
   "outputs": [
    {
     "name": "stdout",
     "output_type": "stream",
     "text": [
      "Total unique users in the filtered dataset: 120635\n"
     ]
    }
   ],
   "source": [
    "total_users = df_recent['author_name'].nunique()\n",
    "print(f\"Total unique users in the filtered dataset: {total_users}\")"
   ]
  },
  {
   "cell_type": "markdown",
   "metadata": {},
   "source": [
    "## Create User-Subreddit Vectors"
   ]
  },
  {
   "cell_type": "code",
   "execution_count": 66,
   "metadata": {},
   "outputs": [
    {
     "name": "stdout",
     "output_type": "stream",
     "text": [
      "Creating vectors for 3565 users across 25 subreddits\n",
      "Created vectors for 3565 users\n",
      "Example vector dimensions: 25\n"
     ]
    }
   ],
   "source": [
    "def create_user_vectors(df):\n",
    "    \"\"\"\n",
    "    Generate vectors for each user where each element represents the \n",
    "    fraction of their posts in a particular subreddit.\n",
    "    \n",
    "    Args:\n",
    "        df (pandas.DataFrame): DataFrame with 'author_name' and 'subreddit' columns\n",
    "        \n",
    "    Returns:\n",
    "        dict: Dictionary mapping users to their subreddit distribution vectors\n",
    "        list: List of all subreddits (to know which index corresponds to which subreddit)\n",
    "    \"\"\"\n",
    "    try:\n",
    "        # Count posts per user-subreddit combination\n",
    "        user_subreddit_counts = df.groupby(['author_name', 'subreddit']).size().reset_index(name='count')\n",
    "        \n",
    "        # Get total posts per user\n",
    "        user_total_posts = user_subreddit_counts.groupby('author_name')['count'].sum()\n",
    "        \n",
    "        # Get list of all subreddits (for vector indices)\n",
    "        all_subreddits = sorted(df['subreddit'].unique())\n",
    "        subreddit_to_idx = {sr: i for i, sr in enumerate(all_subreddits)}\n",
    "        \n",
    "        print(f\"Creating vectors for {len(user_total_posts)} users across {len(all_subreddits)} subreddits\")\n",
    "        \n",
    "        # Create user vectors\n",
    "        user_vectors = {}\n",
    "        for user in user_total_posts.index:\n",
    "            # Initialize vector of zeros\n",
    "            vector = np.zeros(len(all_subreddits))\n",
    "            \n",
    "            # Fill in fractions for subreddits this user has posted in\n",
    "            user_posts = user_subreddit_counts[user_subreddit_counts['author_name'] == user]\n",
    "            for _, row in user_posts.iterrows():\n",
    "                sr_idx = subreddit_to_idx[row['subreddit']]\n",
    "                vector[sr_idx] = row['count'] / user_total_posts[user]\n",
    "            \n",
    "            user_vectors[user] = vector\n",
    "        \n",
    "        # Print some stats\n",
    "        print(f\"Created vectors for {len(user_vectors)} users\")\n",
    "        print(f\"Example vector dimensions: {len(next(iter(user_vectors.values())))}\")\n",
    "        \n",
    "        return user_vectors, all_subreddits\n",
    "    \n",
    "    except Exception as e:\n",
    "        print(f\"Error in create_user_vectors: {str(e)}\")\n",
    "        raise\n",
    "\n",
    "# Create user vectors\n",
    "user_vectors, all_subreddits = create_user_vectors(df_recent)  # or df_clean if not sampling"
   ]
  },
  {
   "cell_type": "markdown",
   "metadata": {},
   "source": [
    "## Generate Network Based on Cosine Similarity"
   ]
  },
  {
   "cell_type": "code",
   "execution_count": null,
   "metadata": {},
   "outputs": [
    {
     "name": "stdout",
     "output_type": "stream",
     "text": [
      "Generating similarity network with 3565 users (threshold: 0.5)\n",
      "Progress: 356/3565 users processed (10.0%)\n",
      "Progress: 712/3565 users processed (20.0%)\n",
      "Progress: 1068/3565 users processed (30.0%)\n",
      "Progress: 1424/3565 users processed (39.9%)\n",
      "Progress: 1780/3565 users processed (49.9%)\n",
      "Progress: 2136/3565 users processed (59.9%)\n",
      "Progress: 2492/3565 users processed (69.9%)\n",
      "Progress: 2848/3565 users processed (79.9%)\n",
      "Progress: 3204/3565 users processed (89.9%)\n",
      "Progress: 3560/3565 users processed (99.9%)\n",
      "Progress: 3565/3565 users processed (100.0%)\n",
      "Network created with 850163 edges and written to 'network_similarity.txt'\n"
     ]
    }
   ],
   "source": [
    "def generate_similarity_network(user_vectors, threshold=0.1, output_file='network_similarity.txt'):\n",
    "    \"\"\"\n",
    "    Generate a network where edges connect users with cosine similarity above threshold.\n",
    "    \n",
    "    Args:\n",
    "        user_vectors (dict): Dictionary mapping users to their subreddit distribution vectors\n",
    "        threshold (float): Minimum cosine similarity to create an edge (0.0-1.0)\n",
    "        output_file (str): Path to output edge list file\n",
    "        \n",
    "    Returns:\n",
    "        str: Path to created edge list file\n",
    "    \"\"\"\n",
    "    try:\n",
    "        users = list(user_vectors.keys())\n",
    "        total_users = len(users)\n",
    "        total_edges = 0\n",
    "        \n",
    "        print(f\"Generating similarity network with {total_users} users (threshold: {threshold})\")\n",
    "        \n",
    "        with open(output_file, 'w') as f:\n",
    "            # Generate all user pairs and check similarity\n",
    "            for i, user1 in enumerate(users):\n",
    "                vec1 = user_vectors[user1]\n",
    "                \n",
    "                # Print progress\n",
    "                if (i+1) % max(1, total_users // 10) == 0 or i+1 == total_users:\n",
    "                    print(f\"Progress: {i+1}/{total_users} users processed ({(i+1)/total_users*100:.1f}%)\")\n",
    "                \n",
    "                for j in range(i+1, total_users):\n",
    "                    user2 = users[j]\n",
    "                    vec2 = user_vectors[user2]\n",
    "                    \n",
    "                    # Skip if both vectors are zero (to avoid division by zero)\n",
    "                    if np.all(vec1 == 0) or np.all(vec2 == 0):\n",
    "                        continue\n",
    "                    \n",
    "                    # Calculate cosine similarity\n",
    "                    similarity = np.dot(vec1, vec2) / (np.linalg.norm(vec1) * np.linalg.norm(vec2))\n",
    "                    \n",
    "                    # Create edge if similarity is above threshold\n",
    "                    if similarity >= threshold:\n",
    "                        f.write(f\"{user1} {user2}\\n\")\n",
    "                        total_edges += 1\n",
    "        \n",
    "        print(f\"Network created with {total_edges} edges and written to '{output_file}'\")\n",
    "        return output_file\n",
    "    \n",
    "    except Exception as e:\n",
    "        print(f\"Error in generate_similarity_network: {str(e)}\")\n",
    "        raise\n",
    "\n",
    "# Generate the network edge list based on similarity\n",
    "edge_list_file = generate_similarity_network(user_vectors, threshold=0.5)"
   ]
  },
  {
   "cell_type": "markdown",
   "metadata": {},
   "source": [
    "2 mins - 0.9 - 755740 edges - 1 day"
   ]
  },
  {
   "cell_type": "markdown",
   "metadata": {},
   "source": [
    "## Load Network"
   ]
  },
  {
   "cell_type": "code",
   "execution_count": 55,
   "metadata": {},
   "outputs": [
    {
     "name": "stdout",
     "output_type": "stream",
     "text": [
      "Network loaded from network_similarity.txt\n",
      "  Number of nodes: 3543\n",
      "  Number of edges: 755740\n"
     ]
    }
   ],
   "source": [
    "def load_network(edge_list_file):\n",
    "    \"\"\"\n",
    "    Load a network from an edge list file.\n",
    "    \n",
    "    Args:\n",
    "        edge_list_file (str): Path to the edge list file\n",
    "        \n",
    "    Returns:\n",
    "        networkx.Graph: The loaded network graph\n",
    "    \"\"\"\n",
    "    try:\n",
    "        # Check if file exists and has content\n",
    "        if not os.path.exists(edge_list_file) or os.path.getsize(edge_list_file) == 0:\n",
    "            raise FileNotFoundError(f\"Edge list file not found or empty: {edge_list_file}\")\n",
    "        \n",
    "        # Load the network\n",
    "        G = nx.read_edgelist(edge_list_file)\n",
    "        print(f\"Network loaded from {edge_list_file}\")\n",
    "        print(f\"  Number of nodes: {G.number_of_nodes()}\")\n",
    "        print(f\"  Number of edges: {G.number_of_edges()}\")\n",
    "        \n",
    "        return G\n",
    "    \n",
    "    except Exception as e:\n",
    "        print(f\"Error in load_network: {str(e)}\")\n",
    "        raise\n",
    "\n",
    "# Load the network\n",
    "G = load_network(edge_list_file)"
   ]
  },
  {
   "cell_type": "markdown",
   "metadata": {},
   "source": [
    "## Analyze Network"
   ]
  },
  {
   "cell_type": "code",
   "execution_count": 56,
   "metadata": {},
   "outputs": [
    {
     "name": "stdout",
     "output_type": "stream",
     "text": [
      "\n",
      "Network Analysis:\n",
      "  Number of connected components: 42\n",
      "  Size of largest connected component: 666 nodes\n",
      "  Percentage of nodes in largest component: 18.80%\n"
     ]
    }
   ],
   "source": [
    "def analyze_network(G):\n",
    "    \"\"\"\n",
    "    Perform basic analysis on a network graph.\n",
    "    \n",
    "    Args:\n",
    "        G (networkx.Graph): The network graph to analyze\n",
    "        \n",
    "    Returns:\n",
    "        networkx.Graph: The analyzed network graph\n",
    "    \"\"\"\n",
    "    try:\n",
    "        print(f\"\\nNetwork Analysis:\")\n",
    "        \n",
    "        # Connected components analysis\n",
    "        num_components = nx.number_connected_components(G)\n",
    "        print(f\"  Number of connected components: {num_components}\")\n",
    "        \n",
    "        if num_components > 0:\n",
    "            # Get largest connected component\n",
    "            largest_cc = max(nx.connected_components(G), key=len)\n",
    "            largest_cc_size = len(largest_cc)\n",
    "            print(f\"  Size of largest connected component: {largest_cc_size} nodes\")\n",
    "            print(f\"  Percentage of nodes in largest component: {largest_cc_size/G.number_of_nodes()*100:.2f}%\")\n",
    "        \n",
    "        return G\n",
    "    \n",
    "    except Exception as e:\n",
    "        print(f\"Error in analyze_network: {str(e)}\")\n",
    "        raise\n",
    "\n",
    "# Analyze the network\n",
    "G = analyze_network(G)"
   ]
  },
  {
   "cell_type": "code",
   "execution_count": 70,
   "metadata": {},
   "outputs": [
    {
     "name": "stdout",
     "output_type": "stream",
     "text": [
      "Network density: 0.1204\n"
     ]
    }
   ],
   "source": [
    "# Network density\n",
    "density = nx.density(G)\n",
    "print(f\"Network density: {density:.4f}\")"
   ]
  }
 ],
 "metadata": {
  "kernelspec": {
   "display_name": "base",
   "language": "python",
   "name": "python3"
  },
  "language_info": {
   "codemirror_mode": {
    "name": "ipython",
    "version": 3
   },
   "file_extension": ".py",
   "mimetype": "text/x-python",
   "name": "python",
   "nbconvert_exporter": "python",
   "pygments_lexer": "ipython3",
   "version": "3.11.5"
  }
 },
 "nbformat": 4,
 "nbformat_minor": 4
}
