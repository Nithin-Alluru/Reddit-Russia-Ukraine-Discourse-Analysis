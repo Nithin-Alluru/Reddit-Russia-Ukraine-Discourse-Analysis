{
 "cells": [
  {
   "cell_type": "markdown",
   "metadata": {},
   "source": [
    "# Reddit Network Analysis\n",
    "\n",
    "This notebook processes a Reddit dataset to create a network where:\n",
    "- Nodes are Reddit users\n",
    "- Edges connect users with similar posting patterns across subreddits (based on cosine similarity)\n",
    "\n",
    "The dataset used is \"reddit_opinion_ru_ua.csv\" from Kaggle (downloaded locally).\n",
    "https://www.kaggle.com/datasets/asaniczka/public-opinion-russia-ukraine-war-updated-daily"
   ]
  },
  {
   "cell_type": "code",
   "metadata": {
    "ExecuteTime": {
     "end_time": "2025-04-29T17:54:18.412621Z",
     "start_time": "2025-04-29T17:54:15.372738Z"
    }
   },
   "source": [
    "# Import all required libraries\n",
    "import pandas as pd\n",
    "import numpy as np\n",
    "import networkx as nx\n",
    "from itertools import combinations\n",
    "import os\n",
    "from sklearn.metrics.pairwise import cosine_similarity"
   ],
   "outputs": [],
   "execution_count": 2
  },
  {
   "cell_type": "markdown",
   "metadata": {},
   "source": [
    "## Data Loading and Preprocessing"
   ]
  },
  {
   "cell_type": "code",
   "metadata": {
    "ExecuteTime": {
     "end_time": "2025-04-29T18:23:51.021905Z",
     "start_time": "2025-04-29T18:22:46.732864Z"
    }
   },
   "source": [
    "def load_and_clean_data(filepath):\n",
    "    \"\"\"\n",
    "    Load Reddit data and remove duplicate user-subreddit combinations.\n",
    "    \n",
    "    Args:\n",
    "        filepath (str): Path to the CSV data file\n",
    "        \n",
    "    Returns:\n",
    "        pandas.DataFrame: Cleaned dataframe with unique user-subreddit combinations\n",
    "    \"\"\"\n",
    "    try:\n",
    "        # Check if file exists\n",
    "        if not os.path.exists(filepath):\n",
    "            raise FileNotFoundError(f\"Data file not found: {filepath}\")\n",
    "            \n",
    "        # Load the dataset\n",
    "        print(f\"Loading data from {filepath}...\")\n",
    "        df = pd.read_csv(filepath)\n",
    "        print(f\"Original data shape: {df.shape}\")\n",
    "        \n",
    "        # Remove duplicate user-subreddit combinations\n",
    "        df_unique = df.drop_duplicates(subset=['author_name', 'subreddit'])\n",
    "        print(f\"Data shape after cleaning: {df_unique.shape}\")\n",
    "        \n",
    "        return df_unique\n",
    "    \n",
    "    except Exception as e:\n",
    "        print(f\"Error in load_and_clean_data: {str(e)}\")\n",
    "        raise\n",
    "\n",
    "# Load and clean the dataset\n",
    "df_clean = load_and_clean_data(\"reddit_opinion_ru_ua.csv\")"
   ],
   "outputs": [
    {
     "name": "stdout",
     "output_type": "stream",
     "text": [
      "Loading data from reddit_opinion_ru_ua.csv...\n",
      "Original data shape: (5168018, 24)\n",
      "Data shape after cleaning: (766897, 24)\n"
     ]
    }
   ],
   "execution_count": 6
  },
  {
   "cell_type": "code",
   "metadata": {
    "ExecuteTime": {
     "end_time": "2025-04-29T19:54:23.558227Z",
     "start_time": "2025-04-29T19:54:23.512741Z"
    }
   },
   "source": [
    "def filter_by_date(df, start_date=None, end_date=None):\n",
    "    \"\"\"\n",
    "    Filter dataframe to include only posts within a specific date range.\n",
    "    \n",
    "    Args:\n",
    "        df (pandas.DataFrame): DataFrame with 'post_created_time' column\n",
    "        start_date (str, datetime, optional): Keep posts on or after this date\n",
    "        end_date (str, datetime, optional): Keep posts on or before this date\n",
    "        \n",
    "    Returns:\n",
    "        pandas.DataFrame: Filtered dataframe\n",
    "    \"\"\"\n",
    "    # Make sure post_created_time is datetime\n",
    "    if not pd.api.types.is_datetime64_dtype(df['post_created_time']):\n",
    "        df['post_created_time'] = pd.to_datetime(df['post_created_time'])\n",
    "    \n",
    "    original_count = len(df)\n",
    "    \n",
    "    # Apply date filters\n",
    "    if start_date is not None:\n",
    "        if isinstance(start_date, str):\n",
    "            start_date = pd.to_datetime(start_date)\n",
    "        df = df[df['post_created_time'] >= start_date]\n",
    "    \n",
    "    if end_date is not None:\n",
    "        if isinstance(end_date, str):\n",
    "            end_date = pd.to_datetime(end_date)\n",
    "        df = df[df['post_created_time'] <= end_date]\n",
    "    \n",
    "    # Report on filtering\n",
    "    print(f\"Date filtering:\")\n",
    "    if start_date is not None:\n",
    "        print(f\"  Start date: {start_date}\")\n",
    "    if end_date is not None:\n",
    "        print(f\"  End date: {end_date}\")\n",
    "    print(f\"  Original records: {original_count}\")\n",
    "    print(f\"  Filtered records: {len(df)} ({len(df)/original_count*100:.1f}% retained)\")\n",
    "    \n",
    "    return df\n",
    "from datetime import timedelta\n",
    "\n",
    "# Calculate a date threshold (e.g., most recent 30 days)\n",
    "max_date = pd.to_datetime(\"4/01/2025\")\n",
    "cutoff_date = max_date - timedelta(days=1)\n",
    "print(f\"Using posts on or after: {cutoff_date}\")\n",
    "\n",
    "# Filter the dataframe\n",
    "df_recent = filter_by_date(df_clean, start_date=cutoff_date)"
   ],
   "outputs": [
    {
     "name": "stdout",
     "output_type": "stream",
     "text": [
      "Using posts on or after: 2025-03-31 00:00:00\n",
      "Date filtering:\n",
      "  Start date: 2025-03-31 00:00:00\n",
      "  Original records: 766897\n",
      "  Filtered records: 97350 (12.7% retained)\n"
     ]
    }
   ],
   "execution_count": 36
  },
  {
   "cell_type": "code",
   "metadata": {
    "ExecuteTime": {
     "end_time": "2025-04-29T19:54:25.460994Z",
     "start_time": "2025-04-29T19:54:25.434543Z"
    }
   },
   "source": [
    "total_users = df_recent['author_name'].nunique()\n",
    "print(f\"Total unique users in the filtered dataset: {total_users}\")"
   ],
   "outputs": [
    {
     "name": "stdout",
     "output_type": "stream",
     "text": [
      "Total unique users in the filtered dataset: 79150\n"
     ]
    }
   ],
   "execution_count": 37
  },
  {
   "cell_type": "markdown",
   "metadata": {},
   "source": [
    "## Create User-Subreddit Vectors"
   ]
  },
  {
   "cell_type": "code",
   "metadata": {
    "ExecuteTime": {
     "end_time": "2025-04-29T19:23:56.555299Z",
     "start_time": "2025-04-29T19:23:38.636016Z"
    }
   },
   "source": [
    "def create_user_vectors(df):\n",
    "    \"\"\"\n",
    "    Generate vectors for each user where each element represents the \n",
    "    fraction of their posts in a particular subreddit.\n",
    "    \n",
    "    Args:\n",
    "        df (pandas.DataFrame): DataFrame with 'author_name' and 'subreddit' columns\n",
    "        \n",
    "    Returns:\n",
    "        dict: Dictionary mapping users to their subreddit distribution vectors\n",
    "        list: List of all subreddits (to know which index corresponds to which subreddit)\n",
    "    \"\"\"\n",
    "    try:\n",
    "        # Count posts per user-subreddit combination\n",
    "        user_subreddit_counts = df.groupby(['author_name', 'subreddit']).size().reset_index(name='count')\n",
    "        \n",
    "        # Get total posts per user\n",
    "        user_total_posts = user_subreddit_counts.groupby('author_name')['count'].sum()\n",
    "        \n",
    "        # Get list of all subreddits (for vector indices)\n",
    "        all_subreddits = sorted(df['subreddit'].unique())\n",
    "        subreddit_to_idx = {sr: i for i, sr in enumerate(all_subreddits)}\n",
    "        \n",
    "        print(f\"Creating vectors for {len(user_total_posts)} users across {len(all_subreddits)} subreddits\")\n",
    "        \n",
    "        # Create user vectors\n",
    "        user_vectors = {}\n",
    "        \n",
    "        for idx, row in user_subreddit_counts.iterrows():\n",
    "            user = row['author_name']\n",
    "            subreddit = row['subreddit']\n",
    "            count = row['count']\n",
    "            \n",
    "            # Initialize vector of zeros\n",
    "            if user not in user_vectors:\n",
    "                user_vectors[user] = np.zeros(len(all_subreddits))\n",
    "            \n",
    "            sr_idx = subreddit_to_idx[subreddit]\n",
    "            user_vectors[user][sr_idx] = count/user_total_posts[user]\n",
    "            \n",
    "        \n",
    "        # Print some stats\n",
    "        print(f\"Created vectors for {len(user_vectors)} users\")\n",
    "        print(f\"Example vector dimensions: {len(next(iter(user_vectors.values())))}\")\n",
    "        \n",
    "        return user_vectors, all_subreddits\n",
    "    \n",
    "    except Exception as e:\n",
    "        print(f\"Error in create_user_vectors: {str(e)}\")\n",
    "        raise\n",
    "\n",
    "# Create user vectors\n",
    "user_vectors, all_subreddits = create_user_vectors(df_recent)  # or df_clean if not sampling"
   ],
   "outputs": [
    {
     "name": "stdout",
     "output_type": "stream",
     "text": [
      "Creating vectors for 185079 users across 39 subreddits\n",
      "Created vectors for 185079 users\n",
      "Example vector dimensions: 39\n"
     ]
    }
   ],
   "execution_count": 20
  },
  {
   "cell_type": "markdown",
   "metadata": {},
   "source": "## Generate Network Based on Cosine Similarity"
  },
  {
   "cell_type": "code",
   "metadata": {
    "ExecuteTime": {
     "end_time": "2025-04-29T19:53:04.921484700Z",
     "start_time": "2025-04-29T19:43:48.985548Z"
    }
   },
   "source": [
    "def generate_similarity_network(user_vectors, threshold=0.1, output_file='network_similarity.txt'):\n",
    "    \"\"\"\n",
    "    Generate a network where edges connect users with cosine similarity above threshold.\n",
    "    \n",
    "    Args:\n",
    "        user_vectors (dict): Dictionary mapping users to their subreddit distribution vectors\n",
    "        threshold (float): Minimum cosine similarity to create an edge (0.0-1.0)\n",
    "        output_file (str): Path to output edge list file\n",
    "        \n",
    "    Returns:\n",
    "        str: Path to created edge list file\n",
    "    \"\"\"\n",
    "    try:\n",
    "        users = list(user_vectors.keys())\n",
    "        total_users = len(users)\n",
    "        total_edges = 0\n",
    "        \n",
    "        # Convert vector dict into a matrix\n",
    "        # NOTE: simply converting the dict into a list may not preserve order -- double check. If it is, this can be made super simple\n",
    "        matrix = np.vstack([user_vectors[user] for user in users])\n",
    "        norms = np.linalg.norm(matrix, axis=1)\n",
    "        \n",
    "        print(f\"Generating similarity network with {total_users} users (threshold: {threshold})\")\n",
    "        \n",
    "        with open(output_file, 'w') as f:\n",
    "            # Generate all user pairs and check similarity\n",
    "            for i in range(len(users)):\n",
    "                user1 = users[i]\n",
    "                vec1 = matrix[i]\n",
    "                norm1 = norms[i]\n",
    "                \n",
    "                # Print progress\n",
    "                if (i+1) % max(1, total_users // 10) == 0 or i+1 == total_users:\n",
    "                    print(f\"Progress: {i+1}/{total_users} users processed ({(i+1)/total_users*100:.1f}%)\")\n",
    "                \n",
    "                for j in range(i+1, total_users):\n",
    "                    user2 = users[j]\n",
    "                    vec2 = matrix[j]\n",
    "                    norm2 = norms[j]\n",
    "                    \n",
    "                    # Skip if both vectors are zero (to avoid division by zero)\n",
    "                    if np.all(vec1 == 0) or np.all(vec2 == 0):\n",
    "                        continue\n",
    "                    \n",
    "                    # Calculate cosine similarity\n",
    "                    similarity = np.dot(vec1, vec2) / (norm1 * norm2)\n",
    "                    \n",
    "                    # Create edge if similarity is above threshold\n",
    "                    if similarity >= threshold:\n",
    "                        f.write(f\"{user1} {user2}\\n\")\n",
    "                        total_edges += 1\n",
    "        \n",
    "        print(f\"Network created with {total_edges} edges and written to '{output_file}'\")\n",
    "        return output_file\n",
    "    \n",
    "    except Exception as e:\n",
    "        print(f\"Error in generate_similarity_network: {str(e)}\")\n",
    "        raise\n",
    "\n",
    "# Generate the network edge list based on similarity\n",
    "edge_list_file = generate_similarity_network(user_vectors, threshold=0.5)"
   ],
   "outputs": [
    {
     "name": "stdout",
     "output_type": "stream",
     "text": [
      "Generating similarity network with 185079 users (threshold: 0.5)\n"
     ]
    },
    {
     "ename": "KeyboardInterrupt",
     "evalue": "",
     "output_type": "error",
     "traceback": [
      "\u001B[1;31m---------------------------------------------------------------------------\u001B[0m",
      "\u001B[1;31mKeyboardInterrupt\u001B[0m                         Traceback (most recent call last)",
      "Cell \u001B[1;32mIn[22], line 64\u001B[0m\n\u001B[0;32m     61\u001B[0m         \u001B[38;5;28;01mraise\u001B[39;00m\n\u001B[0;32m     63\u001B[0m \u001B[38;5;66;03m# Generate the network edge list based on similarity\u001B[39;00m\n\u001B[1;32m---> 64\u001B[0m edge_list_file \u001B[38;5;241m=\u001B[39m generate_similarity_network(user_vectors, threshold\u001B[38;5;241m=\u001B[39m\u001B[38;5;241m0.5\u001B[39m)\n",
      "Cell \u001B[1;32mIn[22], line 49\u001B[0m, in \u001B[0;36mgenerate_similarity_network\u001B[1;34m(user_vectors, threshold, output_file)\u001B[0m\n\u001B[0;32m     46\u001B[0m     \u001B[38;5;28;01mcontinue\u001B[39;00m\n\u001B[0;32m     48\u001B[0m \u001B[38;5;66;03m# Calculate cosine similarity\u001B[39;00m\n\u001B[1;32m---> 49\u001B[0m similarity \u001B[38;5;241m=\u001B[39m np\u001B[38;5;241m.\u001B[39mdot(vec1, vec2) \u001B[38;5;241m/\u001B[39m (norm1 \u001B[38;5;241m*\u001B[39m norm2)\n\u001B[0;32m     51\u001B[0m \u001B[38;5;66;03m# Create edge if similarity is above threshold\u001B[39;00m\n\u001B[0;32m     52\u001B[0m \u001B[38;5;28;01mif\u001B[39;00m similarity \u001B[38;5;241m>\u001B[39m\u001B[38;5;241m=\u001B[39m threshold:\n",
      "\u001B[1;31mKeyboardInterrupt\u001B[0m: "
     ]
    }
   ],
   "execution_count": 22
  },
  {
   "cell_type": "markdown",
   "metadata": {},
   "source": [
    "2 mins - 0.9 - 755740 edges - 1 day"
   ]
  },
  {
   "cell_type": "markdown",
   "metadata": {},
   "source": [
    "## Load Network"
   ]
  },
  {
   "cell_type": "code",
   "execution_count": 55,
   "metadata": {},
   "outputs": [
    {
     "name": "stdout",
     "output_type": "stream",
     "text": [
      "Network loaded from network_similarity.txt\n",
      "  Number of nodes: 3543\n",
      "  Number of edges: 755740\n"
     ]
    }
   ],
   "source": [
    "def load_network(edge_list_file):\n",
    "    \"\"\"\n",
    "    Load a network from an edge list file.\n",
    "    \n",
    "    Args:\n",
    "        edge_list_file (str): Path to the edge list file\n",
    "        \n",
    "    Returns:\n",
    "        networkx.Graph: The loaded network graph\n",
    "    \"\"\"\n",
    "    try:\n",
    "        # Check if file exists and has content\n",
    "        if not os.path.exists(edge_list_file) or os.path.getsize(edge_list_file) == 0:\n",
    "            raise FileNotFoundError(f\"Edge list file not found or empty: {edge_list_file}\")\n",
    "        \n",
    "        # Load the network\n",
    "        G = nx.read_edgelist(edge_list_file)\n",
    "        print(f\"Network loaded from {edge_list_file}\")\n",
    "        print(f\"  Number of nodes: {G.number_of_nodes()}\")\n",
    "        print(f\"  Number of edges: {G.number_of_edges()}\")\n",
    "        \n",
    "        return G\n",
    "    \n",
    "    except Exception as e:\n",
    "        print(f\"Error in load_network: {str(e)}\")\n",
    "        raise\n",
    "\n",
    "# Load the network\n",
    "G = load_network(edge_list_file)"
   ]
  },
  {
   "cell_type": "markdown",
   "metadata": {},
   "source": [
    "## Analyze Network"
   ]
  },
  {
   "cell_type": "code",
   "execution_count": 56,
   "metadata": {},
   "outputs": [
    {
     "name": "stdout",
     "output_type": "stream",
     "text": [
      "\n",
      "Network Analysis:\n",
      "  Number of connected components: 42\n",
      "  Size of largest connected component: 666 nodes\n",
      "  Percentage of nodes in largest component: 18.80%\n"
     ]
    }
   ],
   "source": [
    "def analyze_network(G):\n",
    "    \"\"\"\n",
    "    Perform basic analysis on a network graph.\n",
    "    \n",
    "    Args:\n",
    "        G (networkx.Graph): The network graph to analyze\n",
    "        \n",
    "    Returns:\n",
    "        networkx.Graph: The analyzed network graph\n",
    "    \"\"\"\n",
    "    try:\n",
    "        print(f\"\\nNetwork Analysis:\")\n",
    "        \n",
    "        # Connected components analysis\n",
    "        num_components = nx.number_connected_components(G)\n",
    "        print(f\"  Number of connected components: {num_components}\")\n",
    "        \n",
    "        if num_components > 0:\n",
    "            # Get largest connected component\n",
    "            largest_cc = max(nx.connected_components(G), key=len)\n",
    "            largest_cc_size = len(largest_cc)\n",
    "            print(f\"  Size of largest connected component: {largest_cc_size} nodes\")\n",
    "            print(f\"  Percentage of nodes in largest component: {largest_cc_size/G.number_of_nodes()*100:.2f}%\")\n",
    "        \n",
    "        return G\n",
    "    \n",
    "    except Exception as e:\n",
    "        print(f\"Error in analyze_network: {str(e)}\")\n",
    "        raise\n",
    "\n",
    "# Analyze the network\n",
    "G = analyze_network(G)"
   ]
  },
  {
   "cell_type": "code",
   "execution_count": 70,
   "metadata": {},
   "outputs": [
    {
     "name": "stdout",
     "output_type": "stream",
     "text": [
      "Network density: 0.1204\n"
     ]
    }
   ],
   "source": [
    "# Network density\n",
    "density = nx.density(G)\n",
    "print(f\"Network density: {density:.4f}\")"
   ]
  }
 ],
 "metadata": {
  "kernelspec": {
   "display_name": "base",
   "language": "python",
   "name": "python3"
  },
  "language_info": {
   "codemirror_mode": {
    "name": "ipython",
    "version": 3
   },
   "file_extension": ".py",
   "mimetype": "text/x-python",
   "name": "python",
   "nbconvert_exporter": "python",
   "pygments_lexer": "ipython3",
   "version": "3.11.5"
  }
 },
 "nbformat": 4,
 "nbformat_minor": 4
}
