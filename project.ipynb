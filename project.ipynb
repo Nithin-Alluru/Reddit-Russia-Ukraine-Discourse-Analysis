{
 "cells": [
  {
   "cell_type": "code",
   "id": "initial_id",
   "metadata": {
    "collapsed": true,
    "ExecuteTime": {
     "end_time": "2025-04-04T13:18:27.204291Z",
     "start_time": "2025-04-04T13:18:27.200795Z"
    }
   },
   "source": [
    "# # Download the dataset locally with kagglehub package\n",
    "# https://www.kaggle.com/datasets/asaniczka/public-opinion-russia-ukraine-war-updated-daily?resource=download\n",
    "# import kagglehub\n",
    "# \n",
    "# # Download latest version\n",
    "# path = kagglehub.dataset_download(\"asaniczka/public-opinion-russia-ukraine-war-updated-daily\")\n",
    "# \n",
    "# print(\"Path to dataset files:\", path)"
   ],
   "outputs": [],
   "execution_count": 3
  }
 ],
 "metadata": {
  "kernelspec": {
   "display_name": "Python 3",
   "language": "python",
   "name": "python3"
  },
  "language_info": {
   "codemirror_mode": {
    "name": "ipython",
    "version": 2
   },
   "file_extension": ".py",
   "mimetype": "text/x-python",
   "name": "python",
   "nbconvert_exporter": "python",
   "pygments_lexer": "ipython2",
   "version": "2.7.6"
  }
 },
 "nbformat": 4,
 "nbformat_minor": 5
}
