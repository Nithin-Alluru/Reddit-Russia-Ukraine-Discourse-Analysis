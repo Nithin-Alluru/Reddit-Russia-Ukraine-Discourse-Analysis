{
 "cells": [
  {
   "cell_type": "markdown",
   "metadata": {},
   "source": [
    "# Reddit Network Analysis\n",
    "\n",
    "This notebook processes a Reddit dataset to create a network where:\n",
    "- Nodes are Reddit users\n",
    "- Edges connect users with similar posting patterns across subreddits (based on cosine similarity)\n",
    "\n",
    "The dataset used is \"reddit_opinion_ru_ua.csv\" from Kaggle (downloaded locally).\n",
    "https://www.kaggle.com/datasets/asaniczka/public-opinion-russia-ukraine-war-updated-daily"
   ]
  },
  {
   "cell_type": "code",
   "execution_count": 2,
   "metadata": {
    "ExecuteTime": {
     "end_time": "2025-04-29T17:54:18.412621Z",
     "start_time": "2025-04-29T17:54:15.372738Z"
    }
   },
   "outputs": [],
   "source": [
    "# Import all required libraries\n",
    "import pandas as pd\n",
    "import numpy as np\n",
    "import networkx as nx\n",
    "from itertools import combinations\n",
    "import os\n",
    "from sklearn.metrics.pairwise import cosine_similarity"
   ]
  },
  {
   "cell_type": "markdown",
   "metadata": {},
   "source": [
    "## Data Loading and Preprocessing"
   ]
  },
  {
   "cell_type": "code",
   "execution_count": 3,
   "metadata": {
    "ExecuteTime": {
     "end_time": "2025-04-29T18:23:51.021905Z",
     "start_time": "2025-04-29T18:22:46.732864Z"
    }
   },
   "outputs": [
    {
     "name": "stdout",
     "output_type": "stream",
     "text": [
      "Loading data from reddit_opinion_ru_ua.csv...\n",
      "Original data shape: (5168018, 24)\n",
      "Data shape after cleaning: (766897, 24)\n"
     ]
    }
   ],
   "source": [
    "def load_and_clean_data(filepath):\n",
    "    \"\"\"\n",
    "    Load Reddit data and remove duplicate user-subreddit combinations.\n",
    "    \n",
    "    Args:\n",
    "        filepath (str): Path to the CSV data file\n",
    "        \n",
    "    Returns:\n",
    "        pandas.DataFrame: Cleaned dataframe with unique user-subreddit combinations\n",
    "    \"\"\"\n",
    "    try:\n",
    "        # Check if file exists\n",
    "        if not os.path.exists(filepath):\n",
    "            raise FileNotFoundError(f\"Data file not found: {filepath}\")\n",
    "            \n",
    "        # Load the dataset\n",
    "        print(f\"Loading data from {filepath}...\")\n",
    "        df = pd.read_csv(filepath)\n",
    "        print(f\"Original data shape: {df.shape}\")\n",
    "        \n",
    "        # Remove duplicate user-subreddit combinations\n",
    "        df_unique = df.drop_duplicates(subset=['author_name', 'subreddit'])\n",
    "        print(f\"Data shape after cleaning: {df_unique.shape}\")\n",
    "        \n",
    "        return df_unique\n",
    "    \n",
    "    except Exception as e:\n",
    "        print(f\"Error in load_and_clean_data: {str(e)}\")\n",
    "        raise\n",
    "\n",
    "# Load and clean the dataset\n",
    "df_clean = load_and_clean_data(\"reddit_opinion_ru_ua.csv\")"
   ]
  },
  {
   "cell_type": "code",
   "execution_count": 4,
   "metadata": {},
   "outputs": [],
   "source": [
    "def analyze_post_dates(df):\n",
    "    # Convert post_created_time to datetime\n",
    "    df['post_created_time'] = pd.to_datetime(df['post_created_time'])\n",
    "    \n",
    "    # Get the earliest and latest dates\n",
    "    min_date = df['post_created_time'].min()\n",
    "    max_date = df['post_created_time'].max()\n",
    "    \n",
    "    return min_date, max_date\n"
   ]
  },
  {
   "cell_type": "code",
   "execution_count": 5,
   "metadata": {
    "ExecuteTime": {
     "end_time": "2025-04-29T19:54:23.558227Z",
     "start_time": "2025-04-29T19:54:23.512741Z"
    }
   },
   "outputs": [
    {
     "name": "stdout",
     "output_type": "stream",
     "text": [
      "Date filtering:\n",
      "  Start date: 2025-04-19 11:00:47\n",
      "  Original records: 766897\n",
      "  Filtered records: 41732 (5.4% retained)\n"
     ]
    }
   ],
   "source": [
    "def filter_by_date(df, start_date=None, end_date=None):\n",
    "    \"\"\"\n",
    "    Filter dataframe to include only posts within a specific date range.\n",
    "    \n",
    "    Args:\n",
    "        df (pandas.DataFrame): DataFrame with 'post_created_time' column\n",
    "        start_date (str, datetime, optional): Keep posts on or after this date\n",
    "        end_date (str, datetime, optional): Keep posts on or before this date\n",
    "        \n",
    "    Returns:\n",
    "        pandas.DataFrame: Filtered dataframe\n",
    "    \"\"\"\n",
    "    # Make sure post_created_time is datetime\n",
    "    if not pd.api.types.is_datetime64_dtype(df['post_created_time']):\n",
    "        df['post_created_time'] = pd.to_datetime(df['post_created_time'])\n",
    "    \n",
    "    original_count = len(df)\n",
    "    \n",
    "    # Apply date filters\n",
    "    if start_date is not None:\n",
    "        if isinstance(start_date, str):\n",
    "            start_date = pd.to_datetime(start_date)\n",
    "        df = df[df['post_created_time'] >= start_date]\n",
    "    \n",
    "    if end_date is not None:\n",
    "        if isinstance(end_date, str):\n",
    "            end_date = pd.to_datetime(end_date)\n",
    "        df = df[df['post_created_time'] <= end_date]\n",
    "    \n",
    "    # Report on filtering\n",
    "    print(f\"Date filtering:\")\n",
    "    if start_date is not None:\n",
    "        print(f\"  Start date: {start_date}\")\n",
    "    if end_date is not None:\n",
    "        print(f\"  End date: {end_date}\")\n",
    "    print(f\"  Original records: {original_count}\")\n",
    "    print(f\"  Filtered records: {len(df)} ({len(df)/original_count*100:.1f}% retained)\")\n",
    "    \n",
    "    return df\n",
    "from datetime import timedelta\n",
    "# Get the maximum and minimum date from the dataset\n",
    "min_date, max_date = analyze_post_dates(df_clean)\n",
    "# Calculate a date threshold (e.g., most recent 30 days)\n",
    "cutoff_date = max_date - timedelta(days=10)\n",
    "\n",
    "# Filter the dataframe\n",
    "df_recent = filter_by_date(df_clean, start_date=cutoff_date)"
   ]
  },
  {
   "cell_type": "markdown",
   "metadata": {},
   "source": [
    "## Create User-Subreddit Vectors"
   ]
  },
  {
   "cell_type": "code",
   "execution_count": 7,
   "metadata": {
    "ExecuteTime": {
     "end_time": "2025-04-29T19:23:56.555299Z",
     "start_time": "2025-04-29T19:23:38.636016Z"
    }
   },
   "outputs": [
    {
     "name": "stdout",
     "output_type": "stream",
     "text": [
      "Creating vectors for 35649 users across 34 subreddits\n",
      "Created vectors for 35649 users\n",
      "Example vector dimensions: 34\n"
     ]
    }
   ],
   "source": [
    "def create_user_vectors(df):\n",
    "    \"\"\"\n",
    "    Generate vectors for each user where each element represents the \n",
    "    fraction of their posts in a particular subreddit.\n",
    "    \n",
    "    Args:\n",
    "        df (pandas.DataFrame): DataFrame with 'author_name' and 'subreddit' columns\n",
    "        \n",
    "    Returns:\n",
    "        dict: Dictionary mapping users to their subreddit distribution vectors\n",
    "        list: List of all subreddits (to know which index corresponds to which subreddit)\n",
    "    \"\"\"\n",
    "    try:\n",
    "        # Count posts per user-subreddit combination\n",
    "        user_subreddit_counts = df.groupby(['author_name', 'subreddit']).size().reset_index(name='count')\n",
    "        \n",
    "        # Get total posts per user\n",
    "        user_total_posts = user_subreddit_counts.groupby('author_name')['count'].sum()\n",
    "        \n",
    "        # Get list of all subreddits (for vector indices)\n",
    "        all_subreddits = sorted(df['subreddit'].unique())\n",
    "        subreddit_to_idx = {sr: i for i, sr in enumerate(all_subreddits)}\n",
    "        \n",
    "        print(f\"Creating vectors for {len(user_total_posts)} users across {len(all_subreddits)} subreddits\")\n",
    "        \n",
    "        # Create user vectors\n",
    "        user_vectors = {}\n",
    "        \n",
    "        for idx, row in user_subreddit_counts.iterrows():\n",
    "            user = row['author_name']\n",
    "            subreddit = row['subreddit']\n",
    "            count = row['count']\n",
    "            \n",
    "            # Initialize vector of zeros\n",
    "            if user not in user_vectors:\n",
    "                user_vectors[user] = np.zeros(len(all_subreddits))\n",
    "            \n",
    "            sr_idx = subreddit_to_idx[subreddit]\n",
    "            user_vectors[user][sr_idx] = count/user_total_posts[user]\n",
    "            \n",
    "        \n",
    "        # Print some stats\n",
    "        print(f\"Created vectors for {len(user_vectors)} users\")\n",
    "        print(f\"Example vector dimensions: {len(next(iter(user_vectors.values())))}\")\n",
    "        \n",
    "        return user_vectors, all_subreddits\n",
    "    \n",
    "    except Exception as e:\n",
    "        print(f\"Error in create_user_vectors: {str(e)}\")\n",
    "        raise\n",
    "\n",
    "# Create user vectors\n",
    "user_vectors, all_subreddits = create_user_vectors(df_recent)  # or df_clean if not sampling"
   ]
  },
  {
   "cell_type": "markdown",
   "metadata": {},
   "source": [
    "## Generate Network Based on Dot Product"
   ]
  },
  {
   "cell_type": "code",
   "execution_count": 14,
   "metadata": {},
   "outputs": [
    {
     "name": "stdout",
     "output_type": "stream",
     "text": [
      "Computing similarities for 35649 users...\n",
      "Similarity matrix statistics:\n",
      "  Minimum: 0.000000\n",
      "  Maximum: 1.000000\n",
      "  Mean: 0.132662\n",
      "  Median: 0.000000\n",
      "Network created with 58059686 edges and written to 'network_similarity_vec.txt'\n"
     ]
    }
   ],
   "source": [
    "def generate_similarity_network_vectorized(user_vectors, threshold=0.1, output_file='network_similarity_vec.txt'):\n",
    "    \"\"\"\n",
    "    Generate a network where edges connect users with cosine similarity above threshold.\n",
    "    Uses vectorized operations for better performance.\n",
    "    \"\"\"\n",
    "    import numpy as np\n",
    "    from sklearn.metrics.pairwise import cosine_similarity\n",
    "    \n",
    "    # Convert dict to ordered lists for consistent indexing\n",
    "    users = list(user_vectors.keys())\n",
    "    vectors = np.array([user_vectors[user] for user in users])\n",
    "    \n",
    "    # Normalize vectors (to prepare for cosine similarity calculation)\n",
    "    norms = np.linalg.norm(vectors, axis=1, keepdims=True)\n",
    "    # Avoid division by zero\n",
    "    norms[norms == 0] = 1.0\n",
    "    normalized_vectors = vectors / norms\n",
    "    \n",
    "    print(f\"Computing similarities for {len(users)} users...\")\n",
    "    \n",
    "    # Calculate all pairwise similarities at once\n",
    "    similarity_matrix = np.dot(normalized_vectors, normalized_vectors.T)\n",
    "    # digging into the similarity_matrix\n",
    "    min_similarity = np.min(similarity_matrix)\n",
    "    max_similarity = np.max(similarity_matrix)\n",
    "    mean_similarity = np.mean(similarity_matrix)\n",
    "    median_similarity = np.median(similarity_matrix)\n",
    "\n",
    "    print(f\"Similarity matrix statistics:\")\n",
    "    print(f\"  Minimum: {min_similarity:.6f}\")\n",
    "    print(f\"  Maximum: {max_similarity:.6f}\")\n",
    "    print(f\"  Mean: {mean_similarity:.6f}\")\n",
    "    print(f\"  Median: {median_similarity:.6f}\")\n",
    "\n",
    "    # Create edge list where similarity > threshold\n",
    "    edges = []\n",
    "    # Only look at upper triangle of similarity matrix (avoid duplicates)\n",
    "    rows, cols = np.triu_indices_from(similarity_matrix, k=1)\n",
    "    for i, j in zip(rows, cols):\n",
    "        if similarity_matrix[i, j] >= threshold:\n",
    "            edges.append((users[i], users[j]))\n",
    "    \n",
    "    # Write edges to file\n",
    "    with open(output_file, 'w') as f:\n",
    "        for u1, u2 in edges:\n",
    "            f.write(f\"{u1} {u2}\\n\")\n",
    "    \n",
    "    print(f\"Network created with {len(edges)} edges and written to '{output_file}'\")\n",
    "    return output_file\n",
    "# Generate the network edge list based on similarity using vectorized approach\n",
    "edge_list_file_vec = generate_similarity_network_vectorized(user_vectors, threshold=0.8)"
   ]
  },
  {
   "cell_type": "markdown",
   "metadata": {},
   "source": [
    "## Load Network"
   ]
  },
  {
   "cell_type": "code",
   "execution_count": 15,
   "metadata": {},
   "outputs": [
    {
     "name": "stdout",
     "output_type": "stream",
     "text": [
      "Network loaded from network_similarity_vec.txt\n",
      "  Number of nodes: 35596\n",
      "  Number of edges: 58059686\n"
     ]
    }
   ],
   "source": [
    "def load_network(edge_list_file):\n",
    "    \"\"\"\n",
    "    Load a network from an edge list file.\n",
    "    \n",
    "    Args:\n",
    "        edge_list_file (str): Path to the edge list file\n",
    "        \n",
    "    Returns:\n",
    "        networkx.Graph: The loaded network graph\n",
    "    \"\"\"\n",
    "    try:\n",
    "        # Check if file exists and has content\n",
    "        if not os.path.exists(edge_list_file) or os.path.getsize(edge_list_file) == 0:\n",
    "            raise FileNotFoundError(f\"Edge list file not found or empty: {edge_list_file}\")\n",
    "        \n",
    "        # Load the network\n",
    "        G = nx.read_edgelist(edge_list_file)\n",
    "        print(f\"Network loaded from {edge_list_file}\")\n",
    "        print(f\"  Number of nodes: {G.number_of_nodes()}\")\n",
    "        print(f\"  Number of edges: {G.number_of_edges()}\")\n",
    "        \n",
    "        return G\n",
    "    \n",
    "    except Exception as e:\n",
    "        print(f\"Error in load_network: {str(e)}\")\n",
    "        raise\n",
    "\n",
    "# Load the network\n",
    "G = load_network(edge_list_file_vec)"
   ]
  },
  {
   "cell_type": "markdown",
   "metadata": {},
   "source": [
    "## Analyze Network"
   ]
  },
  {
   "cell_type": "code",
   "execution_count": 12,
   "metadata": {},
   "outputs": [
    {
     "name": "stdout",
     "output_type": "stream",
     "text": [
      "\n",
      "Network Analysis:\n",
      "  Number of connected components: 2\n",
      "  Size of largest connected component: 35644 nodes\n",
      "  Percentage of nodes in largest component: 99.99%\n"
     ]
    }
   ],
   "source": [
    "def analyze_network(G):\n",
    "    \"\"\"\n",
    "    Perform basic analysis on a network graph.\n",
    "    \n",
    "    Args:\n",
    "        G (networkx.Graph): The network graph to analyze\n",
    "        \n",
    "    Returns:\n",
    "        networkx.Graph: The analyzed network graph\n",
    "    \"\"\"\n",
    "    try:\n",
    "        print(f\"\\nNetwork Analysis:\")\n",
    "        \n",
    "        # Connected components analysis\n",
    "        num_components = nx.number_connected_components(G)\n",
    "        print(f\"  Number of connected components: {num_components}\")\n",
    "        \n",
    "        if num_components > 0:\n",
    "            # Get largest connected component\n",
    "            largest_cc = max(nx.connected_components(G), key=len)\n",
    "            largest_cc_size = len(largest_cc)\n",
    "            print(f\"  Size of largest connected component: {largest_cc_size} nodes\")\n",
    "            print(f\"  Percentage of nodes in largest component: {largest_cc_size/G.number_of_nodes()*100:.2f}%\")\n",
    "        \n",
    "        return G\n",
    "    \n",
    "    except Exception as e:\n",
    "        print(f\"Error in analyze_network: {str(e)}\")\n",
    "        raise\n",
    "\n",
    "# Analyze the network\n",
    "G = analyze_network(G)"
   ]
  },
  {
   "cell_type": "code",
   "execution_count": 13,
   "metadata": {},
   "outputs": [
    {
     "name": "stdout",
     "output_type": "stream",
     "text": [
      "Network density: 0.1473\n"
     ]
    }
   ],
   "source": [
    "# Network density\n",
    "density = nx.density(G)\n",
    "print(f\"Network density: {density:.4f}\")"
   ]
  }
 ],
 "metadata": {
  "kernelspec": {
   "display_name": "base",
   "language": "python",
   "name": "python3"
  },
  "language_info": {
   "codemirror_mode": {
    "name": "ipython",
    "version": 3
   },
   "file_extension": ".py",
   "mimetype": "text/x-python",
   "name": "python",
   "nbconvert_exporter": "python",
   "pygments_lexer": "ipython3",
   "version": "3.11.5"
  }
 },
 "nbformat": 4,
 "nbformat_minor": 4
}
