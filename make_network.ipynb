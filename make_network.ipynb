{
 "cells": [
  {
   "cell_type": "markdown",
   "metadata": {},
   "source": [
    "# Reddit Network Analysis\n",
    "\n",
    "This notebook processes a Reddit dataset to create a network where:\n",
    "- Nodes are Reddit users\n",
    "- Edges connect users with similar posting patterns across subreddits (based on cosine similarity)\n",
    "\n",
    "The dataset used is \"reddit_opinion_ru_ua.csv\" from Kaggle (downloaded locally).\n",
    "https://www.kaggle.com/datasets/asaniczka/public-opinion-russia-ukraine-war-updated-daily"
   ]
  },
  {
   "cell_type": "code",
   "metadata": {
    "ExecuteTime": {
     "end_time": "2025-05-06T22:40:48.005569Z",
     "start_time": "2025-05-06T22:40:47.997350Z"
    }
   },
   "source": [
    "# Import all required libraries\n",
    "import pandas as pd\n",
    "import numpy as np\n",
    "import os"
   ],
   "outputs": [],
   "execution_count": 49
  },
  {
   "cell_type": "markdown",
   "metadata": {},
   "source": [
    "## Data Loading and Preprocessing"
   ]
  },
  {
   "cell_type": "code",
   "metadata": {
    "ExecuteTime": {
     "end_time": "2025-05-06T22:42:08.603433Z",
     "start_time": "2025-05-06T22:40:48.034495Z"
    }
   },
   "source": [
    "def load_and_clean_data(filepath):\n",
    "    \"\"\"\n",
    "    Load Reddit data and remove duplicate user-subreddit combinations.\n",
    "    \n",
    "    Args:\n",
    "        filepath (str): Path to the CSV data file\n",
    "        \n",
    "    Returns:\n",
    "        pandas.DataFrame: Cleaned dataframe with unique user-subreddit combinations\n",
    "    \"\"\"\n",
    "    try:\n",
    "        # Check if file exists\n",
    "        if not os.path.exists(filepath):\n",
    "            raise FileNotFoundError(f\"Data file not found: {filepath}\")\n",
    "            \n",
    "        # Load the dataset\n",
    "        print(f\"Loading data from {filepath}...\")\n",
    "        df = pd.read_csv(filepath)\n",
    "        print(f\"Original data shape: {df.shape}\")\n",
    "        \n",
    "        # Remove exact duplicates\n",
    "        df_unique = df.drop_duplicates().copy()\n",
    "        print(f\"Data shape after removing exact duplicates: {df_unique.shape}\")\n",
    "        \n",
    "        return df_unique\n",
    "    \n",
    "    except Exception as e:\n",
    "        print(f\"Error in load_and_clean_data: {str(e)}\")\n",
    "        raise\n",
    "\n",
    "# Load and clean the dataset\n",
    "df_clean = load_and_clean_data(\"reddit_opinion_ru_ua.csv\")"
   ],
   "outputs": [
    {
     "name": "stdout",
     "output_type": "stream",
     "text": [
      "Loading data from reddit_opinion_ru_ua.csv...\n",
      "Original data shape: (5168018, 24)\n",
      "Data shape after removing exact duplicates: (5168018, 24)\n"
     ]
    }
   ],
   "execution_count": 50
  },
  {
   "cell_type": "code",
   "metadata": {
    "ExecuteTime": {
     "end_time": "2025-05-06T22:42:10.380968Z",
     "start_time": "2025-05-06T22:42:10.374774Z"
    }
   },
   "source": [
    "def analyze_post_dates(df):\n",
    "    # Convert post_created_time to datetime\n",
    "    df['post_created_time'] = pd.to_datetime(df['post_created_time'])\n",
    "    \n",
    "    # Get the earliest and latest dates\n",
    "    min_date = df['post_created_time'].min()\n",
    "    max_date = df['post_created_time'].max()\n",
    "    \n",
    "    return min_date, max_date\n"
   ],
   "outputs": [],
   "execution_count": 51
  },
  {
   "cell_type": "code",
   "metadata": {
    "ExecuteTime": {
     "end_time": "2025-05-06T22:42:13.152717Z",
     "start_time": "2025-05-06T22:42:12.036539Z"
    }
   },
   "source": [
    "def filter_by_date(df, start_date=None, end_date=None):\n",
    "    \"\"\"\n",
    "    Filter dataframe to include only posts within a specific date range.\n",
    "    \n",
    "    Args:\n",
    "        df (pandas.DataFrame): DataFrame with 'post_created_time' column\n",
    "        start_date (str, datetime, optional): Keep posts on or after this date\n",
    "        end_date (str, datetime, optional): Keep posts on or before this date\n",
    "        \n",
    "    Returns:\n",
    "        pandas.DataFrame: Filtered dataframe\n",
    "    \"\"\"\n",
    "    # Make sure post_created_time is datetime\n",
    "    if not pd.api.types.is_datetime64_dtype(df['post_created_time']):\n",
    "        df['post_created_time'] = pd.to_datetime(df['post_created_time'])\n",
    "    \n",
    "    original_count = len(df)\n",
    "    \n",
    "    # Apply date filters\n",
    "    if start_date is not None:\n",
    "        if isinstance(start_date, str):\n",
    "            start_date = pd.to_datetime(start_date)\n",
    "        df = df[df['post_created_time'] >= start_date]\n",
    "    \n",
    "    if end_date is not None:\n",
    "        if isinstance(end_date, str):\n",
    "            end_date = pd.to_datetime(end_date)\n",
    "        df = df[df['post_created_time'] <= end_date]\n",
    "    \n",
    "    # Report on filtering\n",
    "    print(f\"Date filtering:\")\n",
    "    if start_date is not None:\n",
    "        print(f\"  Start date: {start_date}\")\n",
    "    if end_date is not None:\n",
    "        print(f\"  End date: {end_date}\")\n",
    "    print(f\"  Original records: {original_count}\")\n",
    "    print(f\"  Filtered records: {len(df)} ({len(df)/original_count*100:.1f}% retained)\")\n",
    "    \n",
    "    return df\n",
    "from datetime import timedelta\n",
    "# Get the maximum and minimum date from the dataset\n",
    "min_date, max_date = analyze_post_dates(df_clean)\n",
    "# Calculate a date threshold (e.g., most recent 30 days)\n",
    "cutoff_date = max_date - timedelta(days=30)\n",
    "\n",
    "# Filter the dataframe\n",
    "df_recent = filter_by_date(df_clean, start_date=cutoff_date)"
   ],
   "outputs": [
    {
     "name": "stdout",
     "output_type": "stream",
     "text": [
      "Date filtering:\n",
      "  Start date: 2025-03-30 11:00:47\n",
      "  Original records: 5168018\n",
      "  Filtered records: 285804 (5.5% retained)\n"
     ]
    }
   ],
   "execution_count": 52
  },
  {
   "cell_type": "markdown",
   "metadata": {},
   "source": [
    "## Create User-Subreddit Vectors"
   ]
  },
  {
   "cell_type": "code",
   "metadata": {
    "ExecuteTime": {
     "end_time": "2025-05-06T22:42:57.210385Z",
     "start_time": "2025-05-06T22:42:52.650608Z"
    }
   },
   "source": [
    "def create_user_vectors(df):\n",
    "    \"\"\"\n",
    "    Generate vectors for each user where each element represents the \n",
    "    fraction of their posts in a particular subreddit.\n",
    "    \n",
    "    Args:\n",
    "        df (pandas.DataFrame): DataFrame with 'author_name' and 'subreddit' columns\n",
    "        \n",
    "    Returns:\n",
    "        dict: Dictionary mapping users to their subreddit distribution vectors\n",
    "        list: List of all subreddits (to know which index corresponds to which subreddit)\n",
    "    \"\"\"\n",
    "    try:\n",
    "        # Count posts per user-subreddit combination\n",
    "        user_subreddit_counts = df.groupby(['author_name', 'subreddit']).size().reset_index(name='count')\n",
    "        \n",
    "        # Get total posts per user\n",
    "        user_total_posts = user_subreddit_counts.groupby('author_name')['count'].sum()\n",
    "        \n",
    "        # Keep only users that have a significant number of comments (no lurkers)\n",
    "        lurker_threshold = 1\n",
    "        user_total_posts = user_total_posts[user_total_posts > lurker_threshold]\n",
    "        user_subreddit_counts = user_subreddit_counts[user_subreddit_counts['author_name'].isin(user_total_posts.index)].copy()\n",
    "\n",
    "        \n",
    "        # Get list of all subreddits (for vector indices)\n",
    "        all_subreddits = sorted(df['subreddit'].unique())\n",
    "        subreddit_to_idx = {sr: i for i, sr in enumerate(all_subreddits)}\n",
    "        \n",
    "        print(f\"Creating vectors for {len(user_total_posts)} users across {len(all_subreddits)} subreddits\")\n",
    "        \n",
    "        # Create user vectors\n",
    "        user_vectors = {}\n",
    "        \n",
    "        for idx, row in user_subreddit_counts.iterrows():\n",
    "            user = row['author_name']\n",
    "            subreddit = row['subreddit']\n",
    "            count = row['count']\n",
    "            \n",
    "            # Initialize vector of zeros\n",
    "            if user not in user_vectors:\n",
    "                user_vectors[user] = np.zeros(len(all_subreddits))\n",
    "            \n",
    "            sr_idx = subreddit_to_idx[subreddit]\n",
    "            user_vectors[user][sr_idx] = count/user_total_posts[user]\n",
    "            \n",
    "        \n",
    "        # Print some stats\n",
    "        print(f\"Created vectors for {len(user_vectors)} users\")\n",
    "        print(f\"Example vector dimensions: {len(next(iter(user_vectors.values())))}\")\n",
    "        \n",
    "        return user_vectors, all_subreddits\n",
    "    \n",
    "    except Exception as e:\n",
    "        print(f\"Error in create_user_vectors: {str(e)}\")\n",
    "        raise\n",
    "\n",
    "# Create user vectors\n",
    "user_vectors, all_subreddits = create_user_vectors(df_recent)  # or df_clean if not sampling"
   ],
   "outputs": [
    {
     "name": "stdout",
     "output_type": "stream",
     "text": [
      "Creating vectors for 35626 users across 35 subreddits\n",
      "Created vectors for 35626 users\n",
      "Example vector dimensions: 35\n"
     ]
    }
   ],
   "execution_count": 55
  },
  {
   "cell_type": "markdown",
   "metadata": {},
   "source": [
    "## Generate Network Based on Dot Product"
   ]
  },
  {
   "cell_type": "code",
   "metadata": {
    "ExecuteTime": {
     "end_time": "2025-05-06T23:21:58.095295Z",
     "start_time": "2025-05-06T23:19:32.510321Z"
    }
   },
   "source": [
    "def deduplicate(vectors, threshold = 1, runs=5):\n",
    "    prev = -1\n",
    "    iteration = 0\n",
    "    curr = vectors.copy()\n",
    "    \n",
    "    while len(curr) != prev and iteration < runs: # Run until the number of nodes stops changing or until we hit max runs\n",
    "        print(f\"\\tDeduplication iteration: {iteration}\")\n",
    "        prev = len(curr)\n",
    "        \n",
    "        users = list(curr.keys())\n",
    "        vecs = np.array([curr[user] for user in users])\n",
    "        norms = np.linalg.norm(vecs, axis=1, keepdims=True)\n",
    "        norms[norms == 0] = 1.0\n",
    "        normalized_vecs = vecs/norms\n",
    "        sim_matrix = np.dot(normalized_vecs, normalized_vecs.T)\n",
    "  \n",
    "        todrop = set()\n",
    "        \n",
    "        for i in range(len(users)):\n",
    "            if users[i] in todrop:\n",
    "                continue\n",
    "            for j in range(i+1, len(users)):\n",
    "                if users[j] in todrop:\n",
    "                    continue\n",
    "                elif sim_matrix[i, j] >= threshold:\n",
    "                    todrop.add(users[j])\n",
    "        \n",
    "        curr = {user: vector for user,vector in curr.items() if user not in todrop}\n",
    "        iteration+=1\n",
    "    return curr\n",
    "        \n",
    "                    \n",
    "\n",
    "def generate_similarity_network_vectorized(user_vectors_2, threshold=0.1, output_file='network_similarity_vec.csv'):\n",
    "    \"\"\"\n",
    "    Generate a network where edges connect users with cosine similarity above threshold.\n",
    "    Uses vectorized operations for better performance.\n",
    "    \"\"\"\n",
    "    import numpy as np\n",
    "\n",
    "    print(f\"Number of users before deduplication: {len(user_vectors_2)}\")\n",
    "    vectors = deduplicate(user_vectors_2, 1)\n",
    "    print(f\"Number of users after deduplication: {len(vectors)}\")\n",
    "    \n",
    "    # Convert dict to ordered lists for consistent indexing\n",
    "    users = list(vectors.keys())\n",
    "    vectors = np.array([vectors[user] for user in users])\n",
    "    \n",
    "    # Normalize vectors (to prepare for cosine similarity calculation)\n",
    "    norms = np.linalg.norm(vectors, axis=1, keepdims=True)\n",
    "    # Avoid division by zero\n",
    "    norms[norms == 0] = 1.0\n",
    "    normalized_vectors = vectors / norms\n",
    "    \n",
    "\n",
    "    \n",
    "    print(f\"Computing similarities for {len(users)} users...\")\n",
    "    \n",
    "    # Calculate all pairwise similarities at once\n",
    "    similarity_matrix = np.dot(normalized_vectors, normalized_vectors.T)\n",
    "    # digging into the similarity_matrix\n",
    "    min_similarity = np.min(similarity_matrix)\n",
    "    max_similarity = np.max(similarity_matrix)\n",
    "    mean_similarity = np.mean(similarity_matrix)\n",
    "    median_similarity = np.median(similarity_matrix)\n",
    "\n",
    "    print(f\"Similarity matrix statistics:\")\n",
    "    print(f\"  Minimum: {min_similarity:.6f}\")\n",
    "    print(f\"  Maximum: {max_similarity:.6f}\")\n",
    "    print(f\"  Mean: {mean_similarity:.6f}\")\n",
    "    print(f\"  Median: {median_similarity:.6f}\")\n",
    "\n",
    "    # Create edge list where similarity > threshold\n",
    "    edges = []\n",
    "    # Only look at upper triangle of similarity matrix (avoid duplicates)\n",
    "    rows, cols = np.triu_indices_from(similarity_matrix, k=1)\n",
    "    for i, j in zip(rows, cols):\n",
    "        if similarity_matrix[i, j] >= threshold:\n",
    "            edges.append((users[i], users[j]))\n",
    "    \n",
    "    # Write edges to file\n",
    "    with open(output_file, 'w') as f:\n",
    "        for u1, u2 in edges:\n",
    "            f.write(f\"{u1} {u2}\\n\")\n",
    "    \n",
    "    print(f\"Network created with {len(edges)} edges and written to '{output_file}'\")\n",
    "    return output_file\n",
    "# Generate the network edge list based on similarity using vectorized approach\n",
    "edge_list_file_vec = generate_similarity_network_vectorized(user_vectors, threshold=0.75)"
   ],
   "outputs": [
    {
     "name": "stdout",
     "output_type": "stream",
     "text": [
      "Number of users before deduplication: 35626\n",
      "0\n",
      "1\n",
      "Number of users after deduplication: 12321\n",
      "Computing similarities for 12321 users...\n",
      "Similarity matrix statistics:\n",
      "  Minimum: 0.000000\n",
      "  Maximum: 1.000000\n",
      "  Mean: 0.215621\n",
      "  Median: 0.002879\n",
      "Network created with 5355399 edges and written to 'network_similarity_vec.csv'\n"
     ]
    }
   ],
   "execution_count": 76
  }
 ],
 "metadata": {
  "kernelspec": {
   "display_name": "base",
   "language": "python",
   "name": "python3"
  },
  "language_info": {
   "codemirror_mode": {
    "name": "ipython",
    "version": 3
   },
   "file_extension": ".py",
   "mimetype": "text/x-python",
   "name": "python",
   "nbconvert_exporter": "python",
   "pygments_lexer": "ipython3",
   "version": "3.11.5"
  }
 },
 "nbformat": 4,
 "nbformat_minor": 4
}
